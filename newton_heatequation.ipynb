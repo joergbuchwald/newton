{
 "cells": [
  {
   "cell_type": "code",
   "execution_count": 1,
   "metadata": {},
   "outputs": [],
   "source": [
    "import numpy as np\n",
    "import copy\n",
    "import matplotlib.pyplot as plt\n",
    "#from scipy.sparse.linalg import inv\n",
    "#from scipy.sparse import csc_matrix\n",
    "from scipy import linalg\n",
    "import time"
   ]
  },
  {
   "cell_type": "markdown",
   "metadata": {},
   "source": [
    "Heatequation\n",
    "\n",
    "$\\partial_t T(x,t) = \\alpha \\frac{d^2 T}{dx^2}(x,t)$ \n",
    "\n",
    "$T_0 (0) = 273$\n",
    "\n",
    "$T(t,0) = 273$\n",
    "\n",
    "$T(t,1) = 400$"
   ]
  },
  {
   "cell_type": "code",
   "execution_count": 2,
   "metadata": {},
   "outputs": [],
   "source": [
    "class Solution:\n",
    "    def __init__(self, T0, Tleft, Tright, Ntime, Nspace, dx) -> None:\n",
    "        self.solution = np.zeros((Ntime, Nspace))\n",
    "        self.Ntime = Ntime\n",
    "        self.Nspace = Nspace\n",
    "        self.Tleft = Tleft\n",
    "        self.Tright = Tright\n",
    "        self.solution[0,:] = T0\n",
    "        self.timestep = 0\n",
    "        self.dx = dx\n",
    "        self.applyRB()\n",
    "\n",
    "\n",
    "    def newTime(self):\n",
    "        self.timestep = self.timestep + 1\n",
    "        try:\n",
    "            self.solution[self.timestep, :] = self.solution[self.timestep-1, :]\n",
    "        except IndexError:\n",
    "            print(\"maximum timestep reached\")\n",
    "        self.applyRB()\n",
    "\n",
    "    def applyRB(self):\n",
    "        self.solution[self.timestep, 0] = self.Tleft\n",
    "        self.solution[self.timestep, -1] = self.Tright\n",
    "\n",
    "    def getVal(self, spaceiter):\n",
    "        if spaceiter < 0:\n",
    "            spaceiter = 0\n",
    "        elif spaceiter > self.Nspace-1:\n",
    "            spaceiter = self.Nspace-1\n",
    "        return self.solution[self.timestep, spaceiter]\n",
    "\n",
    "    def getPreVal(self, spaceiter):\n",
    "        if spaceiter < 0:\n",
    "            spaceiter = 0\n",
    "        elif spaceiter > self.Nspace-1:\n",
    "            spaceiter = self.Nspace-1\n",
    "        return self.solution[self.timestep-1, spaceiter]\n",
    "\n",
    "    def setVal(self, spaceiter, value):\n",
    "        if spaceiter <= 0:\n",
    "            pass\n",
    "        elif spaceiter >= self.Nspace-1:\n",
    "            pass\n",
    "        else:\n",
    "            self.solution[self.timestep, spaceiter] = value[0,0]\n",
    "\n",
    "    def getTimestep(self):\n",
    "        return self.solution[self.timestep, :]\n",
    "\n",
    "    def getPreTimestep(self):\n",
    "        return self.solution[self.timestep-1, :]"
   ]
  },
  {
   "cell_type": "code",
   "execution_count": 3,
   "metadata": {},
   "outputs": [],
   "source": [
    "# numerical Definitions:\n",
    "Ntime = 2\n",
    "Nspace = 5\n",
    "dx = 0.1\n",
    "dt = 0.5\n",
    "\n",
    "\n",
    "# physical parametrization\n",
    "T1 = 273\n",
    "T2 = 400\n",
    "K = 0.1\n",
    "sol = Solution(T1, T1, T2, Ntime, Nspace, dx)\n",
    "\n",
    "# newton settings \n",
    "damping = 1\n",
    "max_iter = 100\n",
    "tol = 1e-10"
   ]
  },
  {
   "cell_type": "markdown",
   "metadata": {},
   "source": [
    "# Discretization Scheme:\n",
    "\n",
    "$\\frac{T^{n+1}_i-T^n_i}{\\Delta t} = \\alpha \\frac{T^{n+1}_{i-1}-2T^{n+1}_i + T^{n+1}_{i+1}}{\\Delta x^2}$\n",
    "\n",
    "define F such\n",
    " \n",
    "$F(T) = 0$"
   ]
  },
  {
   "cell_type": "code",
   "execution_count": 4,
   "metadata": {},
   "outputs": [],
   "source": [
    "def F(solution, dt, dTleft=0, dTmiddle=0, dTright=0):\n",
    "    R = []\n",
    "    for spaceiter in range(0, solution.Nspace):\n",
    "        Tnewleft = solution.getVal(spaceiter-1) + dTleft\n",
    "        Tnewright = solution.getVal(spaceiter+1) + dTright\n",
    "        Tnewmiddle = solution.getVal(spaceiter) + dTmiddle\n",
    "        Toldmiddle = solution.getPreVal(spaceiter) \n",
    "        R.append(K*dt * (Tnewleft-2*Tnewmiddle+Tnewright)/(solution.dx**2) - Tnewmiddle+Toldmiddle)\n",
    "    R[-1] = 0\n",
    "    R[0] = 0\n",
    "    return np.matrix(R).transpose()"
   ]
  },
  {
   "cell_type": "code",
   "execution_count": 5,
   "metadata": {},
   "outputs": [],
   "source": [
    "def JF(solution, dt):\n",
    "    dT = 1e-6\n",
    "    J = np.matrix(np.zeros((solution.Nspace,solution.Nspace)))\n",
    "    for i in range(0, solution.Nspace):\n",
    "        for j in range(0, solution.Nspace):\n",
    "            if (j == i-1):\n",
    "                J[i,j] = (F(solution, dt, dTleft=dT)[i,0] - F(solution, dt, dTleft=0.0)[i,0] ) / dT\n",
    "            elif j == i:\n",
    "                J[i,j] = (F(solution, dt, dTmiddle=dT)[i,0] - F(solution, dt, dTmiddle=0.0)[i,0] ) / dT\n",
    "            elif (j == i + 1):\n",
    "                J[i,j] = (F(solution, dt, dTright=dT)[i,0] - F(solution, dt, dTright=0.0)[i,0] ) / dT\n",
    "            else:\n",
    "                J[i,j] = 0.0\n",
    "    J[:,0] = 0\n",
    "    J[0,:] = 0\n",
    "    J[:,-1] = 0\n",
    "    J[-1,:] = 0\n",
    "    J[0,0] = 1\n",
    "    J[-1,-1] = 1\n",
    "    return J"
   ]
  },
  {
   "cell_type": "code",
   "execution_count": 6,
   "metadata": {},
   "outputs": [
    {
     "name": "stdout",
     "output_type": "stream",
     "text": [
      "Time t = 0.0, time step 0\n",
      "Iteration 1: error: 1.603221107870995e-06 tol: 1e-10\n",
      "Iteration 2: error: 2.898457019905882e-13 tol: 1e-10\n"
     ]
    }
   ],
   "source": [
    "for i in range(0, Ntime-1):\n",
    "    niter = 0\n",
    "    error = 9e9\n",
    "    print(f\"Time t = {i*dt}, time step {i}\")\n",
    "    sol.newTime()\n",
    "\n",
    "    while ((error > tol) and (niter <= max_iter)):   \n",
    "        J = JF(sol, dt)\n",
    "        f = F(sol, dt)\n",
    "        update = np.matrix(linalg.solve(J, -f))\n",
    "        newton_step_solution = np.matrix(sol.getTimestep().transpose()).transpose() + damping * update\n",
    "        for spaceiter in range(0, sol.Nspace):\n",
    "            sol.setVal(spaceiter, newton_step_solution[spaceiter])\n",
    "        dx_post = np.sum( np.abs( sol.getTimestep()-sol.getPreTimestep() ))\n",
    "        error = np.linalg.norm(F(sol, dt))\n",
    "        niter = niter + 1\n",
    "        print(f\"Iteration {niter}: error: {error} tol: {tol}\")"
   ]
  },
  {
   "cell_type": "code",
   "execution_count": 7,
   "metadata": {},
   "outputs": [
    {
     "data": {
      "text/plain": [
       "array([[273.        , 273.        , 273.        , 273.        ,\n",
       "        400.        ],\n",
       "       [273.        , 293.32650448, 317.71830986, 351.05377721,\n",
       "        400.        ]])"
      ]
     },
     "execution_count": 7,
     "metadata": {},
     "output_type": "execute_result"
    }
   ],
   "source": [
    "sol.solution"
   ]
  },
  {
   "cell_type": "code",
   "execution_count": 8,
   "metadata": {},
   "outputs": [
    {
     "data": {
      "text/plain": [
       "Text(0, 0.5, 'T / K')"
      ]
     },
     "execution_count": 8,
     "metadata": {},
     "output_type": "execute_result"
    },
    {
     "data": {
      "image/png": "[encoded data removed]",
      "text/plain": [
       "<Figure size 432x288 with 1 Axes>"
      ]
     },
     "metadata": {},
     "output_type": "display_data"
    }
   ],
   "source": [
    "timesteps = [0,1]\n",
    "for it in timesteps:\n",
    "    plt.plot(sol.solution[it,:], label=f\"t = {dt*it} s\")\n",
    "plt.legend()\n",
    "plt.xlabel(\"x / m\")\n",
    "plt.ylabel(\"T / K\")"
   ]
  },
  {
   "cell_type": "markdown",
   "metadata": {},
   "source": []
  }
 ],
 "metadata": {
  "kernelspec": {
   "display_name": "Python 3 (Spyder)",
   "language": "python3",
   "name": "python3"
  },
  "language_info": {
   "codemirror_mode": {
    "name": "ipython",
    "version": 3
   },
   "file_extension": ".py",
   "mimetype": "text/x-python",
   "name": "python",
   "nbconvert_exporter": "python",
   "pygments_lexer": "ipython3",
   "version": "3.11.7"
  }
 },
 "nbformat": 4,
 "nbformat_minor": 4
}
